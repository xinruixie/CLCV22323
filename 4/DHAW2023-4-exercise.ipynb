{
 "cells": [
  {
   "cell_type": "markdown",
   "id": "92898221",
   "metadata": {},
   "source": [
    "## Strings"
   ]
  },
  {
   "cell_type": "markdown",
   "id": "87cbfbce",
   "metadata": {},
   "source": [
    "##### Write a function that returns the first and the last character of a string as one string. Test your function by calling it with the followung string."
   ]
  },
  {
   "cell_type": "code",
   "execution_count": 6,
   "id": "3e21e6cf",
   "metadata": {},
   "outputs": [],
   "source": [
    "sentence = \"Slice notation in Python is used for selecting a range of items from a sequence such as a list, tuple, or string.\""
   ]
  },
  {
   "cell_type": "code",
   "execution_count": 10,
   "id": "9f12cb24",
   "metadata": {},
   "outputs": [
    {
     "name": "stdout",
     "output_type": "stream",
     "text": [
      "S.\n"
     ]
    }
   ],
   "source": [
    "def first_last(input_string):\n",
    "    new_sentence = input_string[0] + input_string[-1]\n",
    "    return new_sentence\n",
    "\n",
    "sentence = \"Slice notation in Python is used for selecting a range of items from a sequence such as a list, tuple, or string.\"\n",
    "new_sentence = first_last(sentence)\n",
    "print(new_sentence)"
   ]
  },
  {
   "cell_type": "markdown",
   "id": "1db58c77",
   "metadata": {},
   "source": [
    "##### Write a function that takes a string as input and returns its a palindrome."
   ]
  },
  {
   "cell_type": "code",
   "execution_count": 1,
   "id": "c7a67cbb",
   "metadata": {},
   "outputs": [
    {
     "name": "stdout",
     "output_type": "stream",
     "text": [
      "HelloolleH\n"
     ]
    }
   ],
   "source": [
    "def change(input_string):\n",
    "    reverse_string = input_string[::-1]\n",
    "    palindrome = input_string + reverse_string\n",
    "    return palindrome\n",
    "\n",
    "original_string = \"Hello\"\n",
    "its_palindrome = change(original_string)\n",
    "print(its_palindrome)"
   ]
  },
  {
   "cell_type": "markdown",
   "id": "508ef76f",
   "metadata": {},
   "source": [
    "## Lists"
   ]
  },
  {
   "cell_type": "code",
   "execution_count": 2,
   "id": "64afa51c",
   "metadata": {},
   "outputs": [],
   "source": [
    "mylist = ['John', 'Maria', 'Ted', 'Nick', 'Albert', 'John', 'Catherine']"
   ]
  },
  {
   "cell_type": "markdown",
   "id": "6f8d562f",
   "metadata": {},
   "source": [
    "#### Add the name Jim to the list and print the list"
   ]
  },
  {
   "cell_type": "code",
   "execution_count": 3,
   "id": "73e36caa",
   "metadata": {},
   "outputs": [
    {
     "name": "stdout",
     "output_type": "stream",
     "text": [
      "['John', 'Maria', 'Ted', 'Nick', 'Albert', 'John', 'Catherine', 'Jim']\n"
     ]
    }
   ],
   "source": [
    "name = \"Jim\"\n",
    "mylist.append(name)\n",
    "print(mylist)"
   ]
  },
  {
   "cell_type": "markdown",
   "id": "8d1be93c",
   "metadata": {},
   "source": [
    "#### Insert the name Bod to the 2nd place in the list and print the list"
   ]
  },
  {
   "cell_type": "code",
   "execution_count": 6,
   "id": "68fb9177",
   "metadata": {},
   "outputs": [
    {
     "name": "stdout",
     "output_type": "stream",
     "text": [
      "['John', 'Bod', 'Maria', 'Bod', 'Nick', 'Albert', 'John', 'Catherine', 'Jim']\n"
     ]
    }
   ],
   "source": [
    "mylist.insert(1,\"Bod\")\n",
    "print(mylist)"
   ]
  },
  {
   "cell_type": "markdown",
   "id": "312aa5f2",
   "metadata": {},
   "source": [
    "#### Remove Ted from the list and print the list"
   ]
  },
  {
   "cell_type": "code",
   "execution_count": 5,
   "id": "06c2fa44",
   "metadata": {},
   "outputs": [
    {
     "name": "stdout",
     "output_type": "stream",
     "text": [
      "['John', 'Maria', 'Bod', 'Nick', 'Albert', 'John', 'Catherine', 'Jim']\n"
     ]
    }
   ],
   "source": [
    "mylist.remove(\"Ted\")\n",
    "print(mylist)"
   ]
  },
  {
   "cell_type": "markdown",
   "id": "ac7e2efb",
   "metadata": {},
   "source": [
    "##### Write a function that reverses the order of the list"
   ]
  },
  {
   "cell_type": "code",
   "execution_count": 12,
   "id": "51e7c40f",
   "metadata": {},
   "outputs": [
    {
     "name": "stdout",
     "output_type": "stream",
     "text": [
      "['Jim', 'Catherine', 'John', 'Albert', 'Nick', 'Bod', 'Maria', 'Bod', 'John']\n"
     ]
    }
   ],
   "source": [
    "def reverse_list(input_list):\n",
    "    return input_list[::-1]\n",
    "\n",
    "new_list = reverse_list(mylist)\n",
    "print(new_list)"
   ]
  },
  {
   "cell_type": "markdown",
   "id": "a9d7b7c8",
   "metadata": {},
   "source": [
    "## Functions"
   ]
  },
  {
   "cell_type": "markdown",
   "id": "aec927ed",
   "metadata": {},
   "source": [
    "##### Write a Python function called `calculate_circle_area` that takes the radius of a circle as an argument and returns the area of the circle. The formula for the area of a circle is π × radius<sup>2</sup>."
   ]
  },
  {
   "cell_type": "code",
   "execution_count": null,
   "id": "4c42cb24",
   "metadata": {},
   "outputs": [],
   "source": []
  },
  {
   "cell_type": "code",
   "execution_count": 2,
   "id": "3e279b65",
   "metadata": {},
   "outputs": [
    {
     "ename": "NameError",
     "evalue": "name 'calculate_circle_area' is not defined",
     "output_type": "error",
     "traceback": [
      "\u001b[0;31m---------------------------------------------------------------------------\u001b[0m",
      "\u001b[0;31mNameError\u001b[0m                                 Traceback (most recent call last)",
      "Cell \u001b[0;32mIn[2], line 3\u001b[0m\n\u001b[1;32m      1\u001b[0m \u001b[38;5;66;03m# Test the function\u001b[39;00m\n\u001b[1;32m      2\u001b[0m radius \u001b[38;5;241m=\u001b[39m \u001b[38;5;241m5\u001b[39m\n\u001b[0;32m----> 3\u001b[0m area \u001b[38;5;241m=\u001b[39m calculate_circle_area(radius)\n\u001b[1;32m      4\u001b[0m \u001b[38;5;28mprint\u001b[39m(\u001b[38;5;124mf\u001b[39m\u001b[38;5;124m\"\u001b[39m\u001b[38;5;124mThe area of a circle with radius \u001b[39m\u001b[38;5;132;01m{\u001b[39;00mradius\u001b[38;5;132;01m}\u001b[39;00m\u001b[38;5;124m is \u001b[39m\u001b[38;5;132;01m{\u001b[39;00marea\u001b[38;5;132;01m:\u001b[39;00m\u001b[38;5;124m.2f\u001b[39m\u001b[38;5;132;01m}\u001b[39;00m\u001b[38;5;124m\"\u001b[39m)\n",
      "\u001b[0;31mNameError\u001b[0m: name 'calculate_circle_area' is not defined"
     ]
    }
   ],
   "source": [
    "# Test the function\n",
    "radius = 5\n",
    "area = calculate_circle_area(radius)\n",
    "print(f\"The area of a circle with radius {radius} is {area:.2f}\")"
   ]
  },
  {
   "cell_type": "markdown",
   "id": "043319c4",
   "metadata": {},
   "source": [
    "##### Illinois' general state retailers' occupation and use tax rates are:\n",
    "- 6.25 percent on general merchandise, including items required to be titled or registered by an agency of Illinois state government; and\n",
    "- 1 percent on qualifying foods, drugs, and medical appliances. \n",
    "\n",
    "Write two Python functions, named `tax_merchandise` and `tax_food` that calculate the above taxes respectively.  "
   ]
  },
  {
   "cell_type": "code",
   "execution_count": null,
   "id": "73abf46d",
   "metadata": {},
   "outputs": [],
   "source": []
  },
  {
   "cell_type": "markdown",
   "id": "2805fa8d",
   "metadata": {},
   "source": [
    "---"
   ]
  }
 ],
 "metadata": {
  "kernelspec": {
   "display_name": "Python 3 (ipykernel)",
   "language": "python",
   "name": "python3"
  },
  "language_info": {
   "codemirror_mode": {
    "name": "ipython",
    "version": 3
   },
   "file_extension": ".py",
   "mimetype": "text/x-python",
   "name": "python",
   "nbconvert_exporter": "python",
   "pygments_lexer": "ipython3",
   "version": "3.11.5"
  }
 },
 "nbformat": 4,
 "nbformat_minor": 5
}
