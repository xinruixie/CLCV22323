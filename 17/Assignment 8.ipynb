{
 "cells": [
  {
   "cell_type": "markdown",
   "id": "19a7705b",
   "metadata": {},
   "source": [
    "# Write a SPARQL query to receive all Athenian writers of fifth-century BCE"
   ]
  },
  {
   "cell_type": "code",
   "execution_count": 14,
   "id": "96692f49",
   "metadata": {},
   "outputs": [],
   "source": [
    "from SPARQLWrapper import SPARQLWrapper, JSON\n",
    "import pandas as pd\n",
    "pd.set_option('display.max_rows', None)\n",
    "pd.set_option('display.max_columns', None)\n",
    "pd.set_option('display.precision', 3)"
   ]
  },
  {
   "cell_type": "code",
   "execution_count": 15,
   "id": "0c3f7ed2",
   "metadata": {},
   "outputs": [],
   "source": [
    "sparql = SPARQLWrapper(\"https://query.wikidata.org/sparql\")"
   ]
  },
  {
   "cell_type": "code",
   "execution_count": 17,
   "id": "67a57275",
   "metadata": {},
   "outputs": [
    {
     "data": {
      "text/html": [
       "<style type=\"text/css\">\n",
       "</style>\n",
       "<table id=\"T_cb124\">\n",
       "  <thead>\n",
       "    <tr>\n",
       "      <th class=\"blank level0\" >&nbsp;</th>\n",
       "      <th id=\"T_cb124_level0_col0\" class=\"col_heading level0 col0\" >writer.value</th>\n",
       "      <th id=\"T_cb124_level0_col1\" class=\"col_heading level0 col1\" >writerLabel.value</th>\n",
       "    </tr>\n",
       "  </thead>\n",
       "  <tbody>\n",
       "    <tr>\n",
       "      <th id=\"T_cb124_level0_row0\" class=\"row_heading level0 row0\" >0</th>\n",
       "      <td id=\"T_cb124_row0_col0\" class=\"data row0 col0\" >http://www.wikidata.org/entity/Q459517</td>\n",
       "      <td id=\"T_cb124_row0_col1\" class=\"data row0 col1\" >Eupolis</td>\n",
       "    </tr>\n",
       "    <tr>\n",
       "      <th id=\"T_cb124_level0_row1\" class=\"row_heading level0 row1\" >1</th>\n",
       "      <td id=\"T_cb124_row1_col0\" class=\"data row1 col0\" >http://www.wikidata.org/entity/Q1627567</td>\n",
       "      <td id=\"T_cb124_row1_col1\" class=\"data row1 col1\" >Pherecrates</td>\n",
       "    </tr>\n",
       "    <tr>\n",
       "      <th id=\"T_cb124_level0_row2\" class=\"row_heading level0 row2\" >2</th>\n",
       "      <td id=\"T_cb124_row2_col0\" class=\"data row2 col0\" >http://www.wikidata.org/entity/Q859</td>\n",
       "      <td id=\"T_cb124_row2_col1\" class=\"data row2 col1\" >Plato</td>\n",
       "    </tr>\n",
       "    <tr>\n",
       "      <th id=\"T_cb124_level0_row3\" class=\"row_heading level0 row3\" >3</th>\n",
       "      <td id=\"T_cb124_row3_col0\" class=\"data row3 col0\" >http://www.wikidata.org/entity/Q859</td>\n",
       "      <td id=\"T_cb124_row3_col1\" class=\"data row3 col1\" >Plato</td>\n",
       "    </tr>\n",
       "    <tr>\n",
       "      <th id=\"T_cb124_level0_row4\" class=\"row_heading level0 row4\" >4</th>\n",
       "      <td id=\"T_cb124_row4_col0\" class=\"data row4 col0\" >http://www.wikidata.org/entity/Q859</td>\n",
       "      <td id=\"T_cb124_row4_col1\" class=\"data row4 col1\" >Plato</td>\n",
       "    </tr>\n",
       "    <tr>\n",
       "      <th id=\"T_cb124_level0_row5\" class=\"row_heading level0 row5\" >5</th>\n",
       "      <td id=\"T_cb124_row5_col0\" class=\"data row5 col0\" >http://www.wikidata.org/entity/Q913</td>\n",
       "      <td id=\"T_cb124_row5_col1\" class=\"data row5 col1\" >Socrates</td>\n",
       "    </tr>\n",
       "    <tr>\n",
       "      <th id=\"T_cb124_level0_row6\" class=\"row_heading level0 row6\" >6</th>\n",
       "      <td id=\"T_cb124_row6_col0\" class=\"data row6 col0\" >http://www.wikidata.org/entity/Q7235</td>\n",
       "      <td id=\"T_cb124_row6_col1\" class=\"data row6 col1\" >Sophocles</td>\n",
       "    </tr>\n",
       "    <tr>\n",
       "      <th id=\"T_cb124_level0_row7\" class=\"row_heading level0 row7\" >7</th>\n",
       "      <td id=\"T_cb124_row7_col0\" class=\"data row7 col0\" >http://www.wikidata.org/entity/Q41683</td>\n",
       "      <td id=\"T_cb124_row7_col1\" class=\"data row7 col1\" >Thucydides</td>\n",
       "    </tr>\n",
       "    <tr>\n",
       "      <th id=\"T_cb124_level0_row8\" class=\"row_heading level0 row8\" >8</th>\n",
       "      <td id=\"T_cb124_row8_col0\" class=\"data row8 col0\" >http://www.wikidata.org/entity/Q48305</td>\n",
       "      <td id=\"T_cb124_row8_col1\" class=\"data row8 col1\" >Euripides</td>\n",
       "    </tr>\n",
       "    <tr>\n",
       "      <th id=\"T_cb124_level0_row9\" class=\"row_heading level0 row9\" >9</th>\n",
       "      <td id=\"T_cb124_row9_col0\" class=\"data row9 col0\" >http://www.wikidata.org/entity/Q129772</td>\n",
       "      <td id=\"T_cb124_row9_col1\" class=\"data row9 col1\" >Xenophon</td>\n",
       "    </tr>\n",
       "  </tbody>\n",
       "</table>\n"
      ],
      "text/plain": [
       "<pandas.io.formats.style.Styler at 0x134bbfa90>"
      ]
     },
     "execution_count": 17,
     "metadata": {},
     "output_type": "execute_result"
    }
   ],
   "source": [
    "sparql.setQuery(\"\"\"\n",
    "SELECT ?writer ?writerLabel\n",
    "\n",
    "WHERE {\n",
    "        ?writer wdt:P31 wd:Q5 .   # human\n",
    "        ?writer wdt:P27 wd:Q844930 .  # citizenship: ancient Athenian\n",
    "        ?writer wdt:P106 wd:Q36180 . # occupation: writer \n",
    "        ?writer wdt:P569 ?dtb .\n",
    "        FILTER ((YEAR(?dtb)>=-499) && (YEAR(?dtb)<-400))\n",
    "        \n",
    "        SERVICE wikibase:label { bd:serviceParam wikibase:language \"[AUTO_LANGUAGE],en\". }  \n",
    "\n",
    "}\n",
    "LIMIT 10\n",
    "\"\"\")\n",
    "\n",
    "sparql.setReturnFormat(JSON)\n",
    "results = sparql.query().convert()\n",
    "results_df = pd.json_normalize(results[\"results\"][\"bindings\"])\n",
    "results_df = results_df[[\"writer.value\", \"writerLabel.value\"]]\n",
    "results_df.style.format()"
   ]
  }
 ],
 "metadata": {
  "kernelspec": {
   "display_name": "Python 3 (ipykernel)",
   "language": "python",
   "name": "python3"
  },
  "language_info": {
   "codemirror_mode": {
    "name": "ipython",
    "version": 3
   },
   "file_extension": ".py",
   "mimetype": "text/x-python",
   "name": "python",
   "nbconvert_exporter": "python",
   "pygments_lexer": "ipython3",
   "version": "3.11.5"
  }
 },
 "nbformat": 4,
 "nbformat_minor": 5
}
