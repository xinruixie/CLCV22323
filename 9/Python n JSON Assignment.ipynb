{
 "cells": [
  {
   "cell_type": "code",
   "execution_count": 1,
   "id": "a6675075",
   "metadata": {},
   "outputs": [],
   "source": [
    "# Write a function def export_coordinates(input_list, filename) that takes a list of PleiadesIDs as an input and creates an csv file with four columns (named 'title', 'pleiadesID', 'longitude', 'latitude'). The function should:\n",
    "\n",
    "# test if a particular path (e.g., ['features'][0]['geometry']['coordinates']) exists in the JSON file. If such a path does not exist, the function should handle the error/exception. Hint: do not use if statements.\n",
    "## make requests to the Pleiades and return the respective fields for the mentioned columns\n",
    "### export the results to a csv file, whose name will be passed as an argument.\n"
   ]
  },
  {
   "cell_type": "code",
   "execution_count": 15,
   "id": "72e722c5",
   "metadata": {},
   "outputs": [],
   "source": [
    "import json\n",
    "import csv\n",
    "import urllib.request "
   ]
  },
  {
   "cell_type": "code",
   "execution_count": 16,
   "id": "af005d39",
   "metadata": {},
   "outputs": [],
   "source": [
    "def export_coordinates(input_list, filename):\n",
    "    # make the csv file\n",
    "    with open(filename, \"w\", newline = \"\") as output_csv:\n",
    "        writer = csv.DictWriter(output_csv, fieldnames = [\"title\", \"pleiadesID\", \"longitude\", \"latitude\"])\n",
    "        writer.writeheader()\n",
    "\n",
    "        for PleiadesID in input_list:\n",
    "            url = f\"https://pleiades.stoa.org/places/{PleiadesID}/json\"\n",
    "            response = urllib.request.urlopen(url)\n",
    "            data = json.loads(response.read().decode(\"utf-8\"))\n",
    "            #test key existence\n",
    "            try:\n",
    "                title = data.get(\"title\")\n",
    "            except:\n",
    "                print (\"Error detected\")\n",
    "            #test the path\n",
    "            try:\n",
    "                coordinates = data[\"features\"][0][\"geometry\"][\"coordinates\"]\n",
    "                longitude = coordinates[0]\n",
    "                latitude = coordinates[1]\n",
    "                writer.writerow({\"title\": title, \"pleiadesID\": PleiadesID, \"longitude\": longitude, \"latitude\": latitude})\n",
    "            except:\n",
    "                print (\"Path not exist\")"
   ]
  },
  {
   "cell_type": "code",
   "execution_count": 17,
   "id": "b1f5bdc8",
   "metadata": {},
   "outputs": [],
   "source": [
    "the_list = [550463, 785974, 511319, 785975, 462097]\n",
    "export_coordinates(the_list, \"Apollos.csv\")"
   ]
  }
 ],
 "metadata": {
  "kernelspec": {
   "display_name": "Python 3 (ipykernel)",
   "language": "python",
   "name": "python3"
  },
  "language_info": {
   "codemirror_mode": {
    "name": "ipython",
    "version": 3
   },
   "file_extension": ".py",
   "mimetype": "text/x-python",
   "name": "python",
   "nbconvert_exporter": "python",
   "pygments_lexer": "ipython3",
   "version": "3.11.5"
  }
 },
 "nbformat": 4,
 "nbformat_minor": 5
}
