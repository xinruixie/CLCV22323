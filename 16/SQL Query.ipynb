{
 "cells": [
  {
   "cell_type": "markdown",
   "id": "bc3c5c82",
   "metadata": {},
   "source": [
    "# create an ordered list with the city of each province with the most monuments, along with the counts of the monuments"
   ]
  },
  {
   "cell_type": "code",
   "execution_count": 1,
   "id": "ee42e0e2",
   "metadata": {},
   "outputs": [],
   "source": [
    "import pandas as pd\n",
    "import sqlite3"
   ]
  },
  {
   "cell_type": "code",
   "execution_count": 5,
   "id": "851a10ad",
   "metadata": {},
   "outputs": [],
   "source": [
    "connection = sqlite3.connect(\":memory:\")"
   ]
  },
  {
   "cell_type": "code",
   "execution_count": 6,
   "id": "8bf03562",
   "metadata": {},
   "outputs": [
    {
     "data": {
      "text/plain": [
       "9472"
      ]
     },
     "execution_count": 6,
     "metadata": {},
     "output_type": "execute_result"
    }
   ],
   "source": [
    "cities_df = pd.read_excel(\"OxREP+data.xlsx\", sheet_name = \"Cities\")\n",
    "cities_df.to_sql(\"Cities\", con = connection, index = False)\n",
    "monuments_df = pd.read_excel(\"OxREP+data.xlsx\", sheet_name = \"Monuments\")\n",
    "monuments_df.to_sql(\"Monuments\", con = connection, index = False)"
   ]
  },
  {
   "cell_type": "code",
   "execution_count": 14,
   "id": "d491c4c7",
   "metadata": {},
   "outputs": [
    {
     "data": {
      "text/html": [
       "<div>\n",
       "<style scoped>\n",
       "    .dataframe tbody tr th:only-of-type {\n",
       "        vertical-align: middle;\n",
       "    }\n",
       "\n",
       "    .dataframe tbody tr th {\n",
       "        vertical-align: top;\n",
       "    }\n",
       "\n",
       "    .dataframe thead th {\n",
       "        text-align: right;\n",
       "    }\n",
       "</style>\n",
       "<table border=\"1\" class=\"dataframe\">\n",
       "  <thead>\n",
       "    <tr style=\"text-align: right;\">\n",
       "      <th></th>\n",
       "      <th>Province</th>\n",
       "      <th>Modern Toponym</th>\n",
       "      <th>Counts of Monument</th>\n",
       "    </tr>\n",
       "  </thead>\n",
       "  <tbody>\n",
       "    <tr>\n",
       "      <th>0</th>\n",
       "      <td>Italia (VII Etruria)</td>\n",
       "      <td>Rome</td>\n",
       "      <td>236</td>\n",
       "    </tr>\n",
       "    <tr>\n",
       "      <th>1</th>\n",
       "      <td>Achaea</td>\n",
       "      <td>Athens</td>\n",
       "      <td>107</td>\n",
       "    </tr>\n",
       "    <tr>\n",
       "      <th>2</th>\n",
       "      <td>Achaea</td>\n",
       "      <td>Corinth</td>\n",
       "      <td>56</td>\n",
       "    </tr>\n",
       "    <tr>\n",
       "      <th>3</th>\n",
       "      <td>Asia</td>\n",
       "      <td>Bergama</td>\n",
       "      <td>50</td>\n",
       "    </tr>\n",
       "    <tr>\n",
       "      <th>4</th>\n",
       "      <td>Africa Proconsularis</td>\n",
       "      <td>Lebda</td>\n",
       "      <td>46</td>\n",
       "    </tr>\n",
       "    <tr>\n",
       "      <th>...</th>\n",
       "      <td>...</td>\n",
       "      <td>...</td>\n",
       "      <td>...</td>\n",
       "    </tr>\n",
       "    <tr>\n",
       "      <th>1202</th>\n",
       "      <td>Lusitania</td>\n",
       "      <td>Tavira</td>\n",
       "      <td>1</td>\n",
       "    </tr>\n",
       "    <tr>\n",
       "      <th>1203</th>\n",
       "      <td>Italia (XI Transpadana)</td>\n",
       "      <td>Lomello</td>\n",
       "      <td>1</td>\n",
       "    </tr>\n",
       "    <tr>\n",
       "      <th>1204</th>\n",
       "      <td>Italia (X Venetia et Histria)</td>\n",
       "      <td>Mantova</td>\n",
       "      <td>1</td>\n",
       "    </tr>\n",
       "    <tr>\n",
       "      <th>1205</th>\n",
       "      <td>Italia (X Venetia et Histria)</td>\n",
       "      <td>Labin</td>\n",
       "      <td>1</td>\n",
       "    </tr>\n",
       "    <tr>\n",
       "      <th>1206</th>\n",
       "      <td>Italia (VII Etruria)</td>\n",
       "      <td>Città di Castello</td>\n",
       "      <td>1</td>\n",
       "    </tr>\n",
       "  </tbody>\n",
       "</table>\n",
       "<p>1207 rows × 3 columns</p>\n",
       "</div>"
      ],
      "text/plain": [
       "                           Province     Modern Toponym  Counts of Monument\n",
       "0              Italia (VII Etruria)               Rome                 236\n",
       "1                            Achaea             Athens                 107\n",
       "2                            Achaea            Corinth                  56\n",
       "3                              Asia            Bergama                  50\n",
       "4              Africa Proconsularis              Lebda                  46\n",
       "...                             ...                ...                 ...\n",
       "1202                      Lusitania             Tavira                   1\n",
       "1203        Italia (XI Transpadana)            Lomello                   1\n",
       "1204  Italia (X Venetia et Histria)            Mantova                   1\n",
       "1205  Italia (X Venetia et Histria)              Labin                   1\n",
       "1206           Italia (VII Etruria)  Città di Castello                   1\n",
       "\n",
       "[1207 rows x 3 columns]"
      ]
     },
     "execution_count": 14,
     "metadata": {},
     "output_type": "execute_result"
    }
   ],
   "source": [
    "pd.read_sql(\"\"\"\n",
    "SELECT C.Province, \"Modern Toponym\", COUNT(*) as \"Counts of Monument\"\n",
    "FROM Monuments M, Cities C\n",
    "WHERE M.\"Primary Key\" = C.\"Primary Key\"\n",
    "GROUP BY M.\"Primary Key\"\n",
    "ORDER BY \"Counts of Monument\" DESC;\n",
    "\"\"\", connection)"
   ]
  },
  {
   "cell_type": "code",
   "execution_count": null,
   "id": "fa8327e3",
   "metadata": {},
   "outputs": [],
   "source": []
  }
 ],
 "metadata": {
  "kernelspec": {
   "display_name": "Python 3 (ipykernel)",
   "language": "python",
   "name": "python3"
  },
  "language_info": {
   "codemirror_mode": {
    "name": "ipython",
    "version": 3
   },
   "file_extension": ".py",
   "mimetype": "text/x-python",
   "name": "python",
   "nbconvert_exporter": "python",
   "pygments_lexer": "ipython3",
   "version": "3.11.5"
  }
 },
 "nbformat": 4,
 "nbformat_minor": 5
}
